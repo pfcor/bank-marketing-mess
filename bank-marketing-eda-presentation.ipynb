{
 "cells": [
  {
   "cell_type": "markdown",
   "metadata": {
    "slideshow": {
     "slide_type": "slide"
    }
   },
   "source": [
    "<h1><center>BANK-MAKETING ANALYSIS</center></h1>\n",
    "<h3><center>ANÁLISE EXPLORATÓRIA DE DADOS</center></h3>\n",
    "<img src=\"images/telemarketing.png\">\n",
    "\n"
   ]
  },
  {
   "cell_type": "markdown",
   "metadata": {
    "slideshow": {
     "slide_type": "slide"
    }
   },
   "source": [
    "<b>OBJETIVO</b>\n",
    "> Modelar a efetividade da campanha de marketing de Institição Financeira\n",
    "\n",
    "<b>DADOS</b> \n",
    "> - Dados Pessoais Cliente\n",
    "> - Dados Referentes à última campanha realizada\n",
    "> - Dados Macroeconômicos\n",
    "\n",
    "<b>Consultores</b> \n",
    "- Anderson Jesus\n",
    "- Caio Viera\n",
    "- Pedro Correia\n",
    "<br><br><br><br><br><br>\n",
    "*dados disponíveis em [UCI ML Repository](https://archive.ics.uci.edu/ml/datasets/bank+marketing)*"
   ]
  },
  {
   "cell_type": "markdown",
   "metadata": {
    "slideshow": {
     "slide_type": "subslide"
    }
   },
   "source": [
    "### Input variables:\n",
    "#### bank client data:\n",
    "\n",
    "   1. `age`: (numeric)\n",
    "   2. `job` : type of job (categorical: \"admin.\",\"blue-collar\", \"entrepreneur\", \"housemaid\", \"management\", \"retired\", \"self-employed\", \"services\", \"student\", \"technician\", \"unemployed\", \"unknown\")\n",
    "   3. `marital` : marital status (categorical: \"divorced\", \"married\", \"single\", \"unknown\"; note: \"divorced\" means divorced or widowed)\n",
    "   4. `education` (categorical: \"basic.4y\", \"basic.6y\", \"basic.9y\", \"high.school\", \"illiterate\", \"professional.course\", \"university.degree\", \"unknown\")\n",
    "   5. `default`: has credit in default? (categorical: \"no\", \"yes\", \"unknown\")\n",
    "   6. `housing`: has housing loan? (categorical: \"no\", \"yes\", \"unknown\")\n",
    "   7. `loan`: has personal loan? (categorical: \"no\", \"yes\", \"unknown\")\n",
    "   "
   ]
  },
  {
   "cell_type": "markdown",
   "metadata": {
    "slideshow": {
     "slide_type": "subslide"
    }
   },
   "source": [
    "### Input variables:\n",
    "#### related with the last contact of the current campaign:\n",
    "\n",
    "   8. `contact`: contact communication type (categorical: \"cellular\",\"telephone\") \n",
    "   9. `month`: last contact month of year (categorical: \"jan\", \"feb\", \"mar\", ..., \"nov\", \"dec\")\n",
    "   10. `day_of_week`: last contact day of the week (categorical: \"mon\",\"tue\",\"wed\",\"thu\",\"fri\")\n",
    "   11. `duration`: last contact duration, in seconds (numeric)."
   ]
  },
  {
   "cell_type": "markdown",
   "metadata": {
    "slideshow": {
     "slide_type": "subslide"
    }
   },
   "source": [
    "### Input variables:\n",
    "#### other attributes:\n",
    "  \n",
    "   12. `campaign`: number of contacts performed during this campaign and for this client (numeric, includes last contact)\n",
    "   13. `pdays`: number of days that passed by after the client was last contacted from a previous campaign (numeric; 999 means client was not previously contacted)\n",
    "   14. `previous`: number of contacts performed before this campaign and for this client (numeric)\n",
    "   15. `poutcome`: outcome of the previous marketing campaign (categorical: \"failure\",\"nonexistent\",\"success\")\n",
    "  \n",
    "#### social and economic context attributes\n",
    "   \n",
    "   16. `emp.var.rate`: employment variation rate - quarterly indicator (numeric)\n",
    "   17. `cons.price.idx`: consumer price index - monthly indicator (numeric)     \n",
    "   18. `cons.conf.idx`: consumer confidence index - monthly indicator (numeric)     \n",
    "   19. `euribor3m`: euribor 3 month rate - daily indicator (numeric)\n",
    "   20. `nr.employed`: number of employees - quarterly indicator (numeric)"
   ]
  },
  {
   "cell_type": "markdown",
   "metadata": {
    "slideshow": {
     "slide_type": "subslide"
    }
   },
   "source": [
    "### Output variable (desired target):\n",
    "  \n",
    "   21. y - has the client subscribed a term deposit? (binary: \"yes\", \"no\")\n",
    "\n",
    "\n",
    "### Missing Attribute Values: \n",
    "There are several missing values in some categorical attributes, all coded with the \"unknown\" label. These missing values can be treated as a possible class label or using deletion or imputation techniques. \n"
   ]
  },
  {
   "cell_type": "markdown",
   "metadata": {
    "slideshow": {
     "slide_type": "slide"
    }
   },
   "source": [
    "<h1><center>ANÁLISE DE DADOS</center></h1>\n",
    "<br><br>\n",
    "<img src=\"images/data-analysis-python.jpg\">"
   ]
  },
  {
   "cell_type": "markdown",
   "metadata": {
    "slideshow": {
     "slide_type": "slide"
    }
   },
   "source": [
    "# TARGET\n",
    "<center><img src=\"plots/01_target.png\"></center>"
   ]
  },
  {
   "cell_type": "markdown",
   "metadata": {
    "slideshow": {
     "slide_type": "slide"
    }
   },
   "source": [
    "# CATEGORICAL\n",
    "\n",
    "- São <b>10</b> as variáveis categóricas.\n",
    "- Cardinalidade variando entre <b>2</b> (booleana) e <b>12</b>"
   ]
  },
  {
   "cell_type": "markdown",
   "metadata": {
    "slideshow": {
     "slide_type": "fragment"
    }
   },
   "source": [
    "<center><img src=\"plots/02_categorical_eg.png\"></center>"
   ]
  },
  {
   "cell_type": "markdown",
   "metadata": {
    "slideshow": {
     "slide_type": "slide"
    }
   },
   "source": [
    "# NUMERICAL\n",
    "- São <b>10</b> as variáveis numéricas"
   ]
  },
  {
   "cell_type": "markdown",
   "metadata": {
    "slideshow": {
     "slide_type": "fragment"
    }
   },
   "source": [
    "<img src=\"plots/05_numeric_eg.png\">"
   ]
  },
  {
   "cell_type": "markdown",
   "metadata": {
    "slideshow": {
     "slide_type": "subslide"
    }
   },
   "source": [
    "<img src=\"plots/04_pearson.png\">"
   ]
  },
  {
   "cell_type": "markdown",
   "metadata": {
    "slideshow": {
     "slide_type": "slide"
    }
   },
   "source": [
    "# MODEL FITTING"
   ]
  },
  {
   "cell_type": "markdown",
   "metadata": {
    "slideshow": {
     "slide_type": "fragment"
    }
   },
   "source": [
    "Após diversos testes, o [Gradient Boosting Classifier](http://scikit-learn.org/stable/modules/generated/sklearn.ensemble.GradientBoostingClassifier.html) apresentou a melhor performance.\n",
    "\n",
    "Ainda assim, com uma performance muito aquém do desejado:\n",
    "<img src=\"plots/07_class_before.png\">"
   ]
  },
  {
   "cell_type": "markdown",
   "metadata": {
    "slideshow": {
     "slide_type": "slide"
    }
   },
   "source": [
    "# MODEL FITTING\n",
    "\n",
    "### ESTRATÉGIAS\n",
    "\n",
    "1. [SMOTE](http://contrib.scikit-learn.org/imbalanced-learn/stable/generated/imblearn.over_sampling.SMOTE.html)\n",
    "2. Com novo dataset balanceado, reduzir taxa de aprendizado"
   ]
  },
  {
   "cell_type": "markdown",
   "metadata": {
    "slideshow": {
     "slide_type": "subslide"
    }
   },
   "source": [
    "<img src=\"plots/04_acc_rcl_lr.png\">"
   ]
  },
  {
   "cell_type": "markdown",
   "metadata": {
    "slideshow": {
     "slide_type": "fragment"
    }
   },
   "source": [
    "<img src=\"plots/03_gbm_nest100_lr0.01.png\">"
   ]
  },
  {
   "cell_type": "markdown",
   "metadata": {
    "slideshow": {
     "slide_type": "subslide"
    }
   },
   "source": [
    "<img src=\"plots/07_class_after.png\">"
   ]
  },
  {
   "cell_type": "markdown",
   "metadata": {
    "slideshow": {
     "slide_type": "slide"
    }
   },
   "source": [
    "<h3><center>OBRIGADO</center></h3>"
   ]
  }
 ],
 "metadata": {
  "celltoolbar": "Slideshow",
  "kernelspec": {
   "display_name": "Python 3",
   "language": "python",
   "name": "python3"
  },
  "language_info": {
   "codemirror_mode": {
    "name": "ipython",
    "version": 3
   },
   "file_extension": ".py",
   "mimetype": "text/x-python",
   "name": "python",
   "nbconvert_exporter": "python",
   "pygments_lexer": "ipython3",
   "version": "3.6.3"
  }
 },
 "nbformat": 4,
 "nbformat_minor": 2
}
